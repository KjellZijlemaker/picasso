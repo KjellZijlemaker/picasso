{
 "cells": [
  {
   "cell_type": "code",
   "execution_count": 1,
   "metadata": {
    "collapsed": true
   },
   "outputs": [],
   "source": [
    "import pandas as pd\n",
    "from geotext import GeoText\n",
    "import numpy as np"
   ]
  },
  {
   "cell_type": "code",
   "execution_count": 2,
   "metadata": {},
   "outputs": [
    {
     "name": "stderr",
     "output_type": "stream",
     "text": [
      "/Users/murielhol/anaconda3/lib/python3.6/site-packages/IPython/core/interactiveshell.py:2698: DtypeWarning: Columns (22) have mixed types. Specify dtype option on import or set low_memory=False.\n",
      "  interactivity=interactivity, compiler=compiler, result=result)\n"
     ]
    }
   ],
   "source": [
    "df = pd.read_csv('omni.csv')"
   ]
  },
  {
   "cell_type": "markdown",
   "metadata": {
    "collapsed": true
   },
   "source": [
    "## Source 1:  the desciption in the dataset itself"
   ]
  },
  {
   "cell_type": "code",
   "execution_count": 3,
   "metadata": {
    "collapsed": true
   },
   "outputs": [],
   "source": [
    "cities_description, countries_description = [], []\n",
    "from collections import Counter"
   ]
  },
  {
   "cell_type": "code",
   "execution_count": 4,
   "metadata": {
    "collapsed": true
   },
   "outputs": [],
   "source": [
    "for i, row in df.iterrows():\n",
    "    text = row.description\n",
    "    if text and not str(text)=='nan':\n",
    "        text = text.title().replace(' ', ', ')\n",
    "        gt = GeoText(text)\n",
    "        try:\n",
    "            cit = Counter([ c for c in gt.cities if not c in ['Of', 'Man', 'Same', 'Much', 'Date', 'Most', 'Van']]).most_common(1)[0][0]\n",
    "            cou = Counter([r for r in gt.country_mentions if not r == 'TR' ]).most_common(1)[0][0]\n",
    "            cities_description.append(cit)\n",
    "            countries_description.append(cou)\n",
    "        except:\n",
    "            cities_description.append('')\n",
    "            countries_description.append('')\n",
    "    else:\n",
    "        cities_description.append('')\n",
    "        countries_description.append('')\n"
   ]
  },
  {
   "cell_type": "code",
   "execution_count": 5,
   "metadata": {},
   "outputs": [
    {
     "name": "stdout",
     "output_type": "stream",
     "text": [
      "['', '', '', '', '', '', '', '', '', '', '', '', '', '', '', '', '', '', '', 'London', '', '', 'Chicago', '', '', '', '', '', '', '', '', '', 'Roman', '', '', 'Young', 'Alexandria', '', '', '', '', '', '', '', '', '', '', '', '', '', '', '', '', '', '', '', '', '', '', '', '', '', '', '', '', '', '', '', '', '', '', '', '', '', 'Hemet', '', '', '', '', '', '', '', '', '', '', '', '', '', '', '', '', '', '', '', '', '', '', '', '', '']\n"
     ]
    }
   ],
   "source": [
    "print(cities_description[:100])"
   ]
  },
  {
   "cell_type": "markdown",
   "metadata": {},
   "source": [
    "## source 2: wikipedia crawls"
   ]
  },
  {
   "cell_type": "code",
   "execution_count": null,
   "metadata": {
    "collapsed": true
   },
   "outputs": [],
   "source": []
  },
  {
   "cell_type": "code",
   "execution_count": 6,
   "metadata": {
    "collapsed": true
   },
   "outputs": [],
   "source": [
    "df_ = df.copy().drop_duplicates(subset='artist_full_name')\n",
    "full_names = list(df_.artist_full_name)\n",
    "first_names = list(df_.artist_first_name)\n",
    "last_names = list(df_.artist_last_name)"
   ]
  },
  {
   "cell_type": "code",
   "execution_count": 7,
   "metadata": {},
   "outputs": [
    {
     "name": "stdout",
     "output_type": "stream",
     "text": [
      "241634 57297\n"
     ]
    }
   ],
   "source": [
    "print(len(df), len(df_))"
   ]
  },
  {
   "cell_type": "code",
   "execution_count": 8,
   "metadata": {},
   "outputs": [
    {
     "name": "stdout",
     "output_type": "stream",
     "text": [
      "fails: 0\n"
     ]
    }
   ],
   "source": [
    "e = 0\n",
    "cities_wiki, countries_wiki, wiki_match_artists = [], [], []\n",
    "wiki = pd.read_csv('wikipedia_locations.csv')\n",
    "for i in range(len(last_names)):\n",
    "    check = False\n",
    "    try:\n",
    "        full_name = full_names[i]\n",
    "        name = last_names[i]\n",
    "        name = str(name).replace('(',\"\").replace(')', \"\").replace('[',\"\").replace(']', \"\").split()\n",
    "        first_name = first_names[i]\n",
    "        first_name = str(first_name).replace('(',\"\").replace(')', \"\").replace('[',\"\").replace(']', \"\").split()\n",
    "        # reduce the search in 3 steps\n",
    "\n",
    "        if len(name[-1])>1:\n",
    "            this_df = wiki[wiki['artist'].str.contains(name[-1], regex=False, case=False)]\n",
    "            check=True\n",
    "    #             if len(this_df)>0:\n",
    "    #                 print(name[-1], full_name)\n",
    "    #                 print(this_df)\n",
    "    #                 print('\\n \\n \\n')\n",
    "\n",
    "\n",
    "        if len(name[0])>1:\n",
    "            check=True\n",
    "            this_df = this_df[this_df['artist'].str.contains(name[-0], case=False, regex=False)]\n",
    "\n",
    "\n",
    "        if len(first_name[0])>1:\n",
    "            check=True\n",
    "            this_df = this_df[this_df['artist'].str.contains(first_name[0], case=False, regex=False)]\n",
    "\n",
    "        if check and len(this_df)>1 and len(this_df)<10:\n",
    "            options = [a.replace('-', ' ') for a in this_df.artist]\n",
    "            scores = [int(a.strip()==full_name.strip()) for a in options]\n",
    "            if 1 in scores:\n",
    "                best = np.amax(scores)\n",
    "                this_df = this_df.iloc[best]\n",
    "\n",
    "        if len(this_df)==1:\n",
    "            wiki_match_artists.append(full_names[i])\n",
    "            cities_wiki.append(list(this_df.city.values))\n",
    "            countries_wiki.append(list(this_df.country.values))    \n",
    "    \n",
    "\n",
    "\n",
    "    except:\n",
    "        e+=1\n",
    "        pass\n",
    "    \n",
    "print('fails:', e)"
   ]
  },
  {
   "cell_type": "code",
   "execution_count": null,
   "metadata": {
    "collapsed": true
   },
   "outputs": [],
   "source": []
  },
  {
   "cell_type": "code",
   "execution_count": 9,
   "metadata": {
    "collapsed": true
   },
   "outputs": [],
   "source": [
    "df_wiki = pd.DataFrame({'artist': wiki_match_artists, 'country':countries_wiki, 'city':cities_wiki})"
   ]
  },
  {
   "cell_type": "code",
   "execution_count": 10,
   "metadata": {},
   "outputs": [
    {
     "name": "stdout",
     "output_type": "stream",
     "text": [
      "                    artist            city country\n",
      "0          wyndham lewis         [Amherst]    [CA]\n",
      "1           rudolf bauer             [nan]    [PL]\n",
      "2   james mcneill whistler        [Lowell]    [US]\n",
      "3        morton shamberg    [Philadelphia]    [US]\n",
      "4              paul klee             [nan]    [CH]\n",
      "5       kazimir malevich            [Kiev]    [RU]\n",
      "6      wassily kandinsky          [Moscow]    [US]\n",
      "7        robert delaunay           [Paris]    [US]\n",
      "8       carl buchheister         [Hanover]    [DE]\n",
      "9        kurt schwitters         [Hanover]    [US]\n",
      "10          andre masson           [Lille]    [FR]\n",
      "11    sophie taeuber-arp             [nan]    [CH]\n",
      "12           anni albers          [Berlin]    [DE]\n",
      "13            vija celmins          [Riga]    [LV]\n",
      "14         gerhard richter       [Dresden]    [DE]\n",
      "15            lucian freud        [Berlin]    [DE]\n",
      "16            stuart davis  [Philadelphia]    [US]\n",
      "17        marcel duchamp             [nan]    [FR]\n",
      "18       francis picabia           [Paris]    [US]\n",
      "19              jean arp      [Strasbourg]    [FR]\n",
      "1237\n"
     ]
    }
   ],
   "source": [
    "print(df_wiki.head(20))\n",
    "print(len(df_wiki))"
   ]
  },
  {
   "cell_type": "markdown",
   "metadata": {
    "collapsed": true
   },
   "source": [
    "## source 3: The RDF dbpedia queries"
   ]
  },
  {
   "cell_type": "code",
   "execution_count": 11,
   "metadata": {
    "collapsed": true
   },
   "outputs": [],
   "source": [
    "pedia = pd.read_csv('dbpedia_locations.csv').drop_duplicates(subset=['artist'])"
   ]
  },
  {
   "cell_type": "code",
   "execution_count": null,
   "metadata": {
    "collapsed": true
   },
   "outputs": [],
   "source": []
  },
  {
   "cell_type": "code",
   "execution_count": 12,
   "metadata": {},
   "outputs": [
    {
     "name": "stdout",
     "output_type": "stream",
     "text": [
      "fails: 0\n"
     ]
    }
   ],
   "source": [
    "cities_pedia, countries_pedia, pedia_match_artists = [], [], []\n",
    "for i in range(len(last_names)):\n",
    "    check = False\n",
    "    try:\n",
    "        full_name = full_names[i]\n",
    "        name = last_names[i]\n",
    "        name = str(name).replace('(',\"\").replace(')', \"\").replace('[',\"\").replace(']', \"\").split()\n",
    "        first_name = first_names[i]\n",
    "        first_name = str(first_name).replace('(',\"\").replace(')', \"\").replace('[',\"\").replace(']', \"\").split()\n",
    "        # reduce the search in 3 steps\n",
    "        \n",
    "        if len(name[-1])>1:\n",
    "            this_df = pedia[pedia['artist'].str.contains(name[-1], regex=False, case=False)]\n",
    "            check=True\n",
    "#             if len(this_df)>0:\n",
    "#                 print(name[-1], full_name)\n",
    "#                 print(this_df)\n",
    "#                 print('\\n \\n \\n')\n",
    "                \n",
    "        \n",
    "        if len(name[0])>1:\n",
    "            check=True\n",
    "            this_df = this_df[this_df['artist'].str.contains(name[-0], case=False, regex=False)]\n",
    "\n",
    "        \n",
    "        if len(first_name[0])>1:\n",
    "            check=True\n",
    "            this_df = this_df[this_df['artist'].str.contains(first_name[0], case=False, regex=False)]\n",
    "\n",
    "\n",
    "        if len(this_df)==1:\n",
    "            pedia_match_artists.append(full_names[i])\n",
    "            cities_pedia.append(list(this_df.city.values))\n",
    "            countries_pedia.append(list(this_df.country.values))    \n",
    "\n",
    "    except:\n",
    "        e+=1\n",
    "        pass\n",
    "print('fails:', e)"
   ]
  },
  {
   "cell_type": "code",
   "execution_count": 13,
   "metadata": {
    "collapsed": true
   },
   "outputs": [],
   "source": [
    "df_pedia = pd.DataFrame({'artist': pedia_match_artists, 'country':countries_pedia, 'city':cities_pedia})"
   ]
  },
  {
   "cell_type": "code",
   "execution_count": 14,
   "metadata": {},
   "outputs": [
    {
     "name": "stdout",
     "output_type": "stream",
     "text": [
      "                artist          city   country\n",
      "0  wassily kandinsky        [Moscow]      [US]\n",
      "1         franz marc        [Munich]      [DE]\n",
      "2        pablo picasso      [M?laga]  [M?laga]\n",
      "3       martin puryear  [Washington]      [US]\n",
      "4          max kozloff     [Chicago]      [US]\n"
     ]
    }
   ],
   "source": [
    "print(df_pedia.head())"
   ]
  },
  {
   "cell_type": "markdown",
   "metadata": {},
   "source": [
    "## Combine : \n",
    "- First see if the wiki and dbpedia match in country\n",
    "    - if so: accept country\n",
    "    - if not: check if they match city"
   ]
  },
  {
   "cell_type": "code",
   "execution_count": 15,
   "metadata": {
    "collapsed": true
   },
   "outputs": [],
   "source": [
    "full_names_all = list(df.artist_full_name)"
   ]
  },
  {
   "cell_type": "code",
   "execution_count": 16,
   "metadata": {},
   "outputs": [
    {
     "name": "stdout",
     "output_type": "stream",
     "text": [
      "cw, cwp, cpd, cwd, cp, cd\n",
      "39762 2027 5 0 6004 534\n"
     ]
    }
   ],
   "source": [
    "countries, cities, artists = [], [], []\n",
    "\n",
    "cw, cwp, cpd, cwd, cp, cd = 0,0,0,0,0,0\n",
    "\n",
    "for i in range(len(full_names_all)):\n",
    "    fn = full_names_all[i]\n",
    "    wiki = df_wiki[df_wiki.artist==fn]\n",
    "    pedia = df_pedia[df_pedia.artist==fn]\n",
    "    \n",
    "    # countries\n",
    "    if len(wiki)>0 and len(pedia)>0:\n",
    "        if str(wiki.country.values[0][0]) == str(pedia.country.values[0][0]):\n",
    "            countries.append(wiki.country.values[0][0])\n",
    "            cwp+=1\n",
    "        elif str(wiki.country.values[0][0]) in countries_description[i]:\n",
    "            countries.append(wiki.country.values[0][0])\n",
    "            cwd+=1\n",
    "        elif str(pedia.country.values[0][0]) in countries_description[i]:\n",
    "            countries.append(pedia.country.values[0][0])\n",
    "            cpd+=1\n",
    "        else:\n",
    "            countries.append(wiki.country.values[0][0])\n",
    "            cw+=1\n",
    "    elif len(wiki)>0:\n",
    "        cw+=1\n",
    "        countries.append(wiki.country.values[0][0])\n",
    "    elif len(pedia)>0:\n",
    "        cp+=1\n",
    "        countries.append(pedia.country.values[0][0])\n",
    "    elif len(countries_description[i])>0:\n",
    "        cd+=1\n",
    "        countries.append(countries_description[i])\n",
    "    else:\n",
    "        countries.append('')\n",
    "        \n",
    "        \n",
    "    # cities\n",
    "    if len(wiki)>0 and len(pedia)>0:\n",
    "        if str(wiki.city.values[0][0]) == str(pedia.city.values[0][0]):\n",
    "            cities.append(wiki.city.values[0][0])\n",
    "            cwp+=1\n",
    "        elif str(wiki.city.values[0][0]) in str(cities_description[i]):\n",
    "            cities.append(wiki.city.values[0][0])\n",
    "            cwd+=1\n",
    "        elif str(pedia.city.values[0][0]) in cities_description[i]:\n",
    "            cities.append(pedia.city.values[0][0])\n",
    "            cpd+=1\n",
    "        else:\n",
    "            cities.append(wiki.city.values[0][0])\n",
    "            cw+=1\n",
    "    elif len(wiki)>0:\n",
    "        cw+=1\n",
    "        cities.append(wiki.city.values[0][0])\n",
    "    elif len(pedia)>0:\n",
    "        cp+=1\n",
    "        cities.append(pedia.city.values[0][0])\n",
    "    elif len(cities_description[i])>0:\n",
    "        cd+=1\n",
    "        cities.append(cities_description[i])\n",
    "    else:\n",
    "        cities.append('')\n",
    "        \n",
    "print('cw, cwp, cpd, cwd, cp, cd')\n",
    "print(cw, cwp, cpd, cwd, cp, cd)\n",
    "    "
   ]
  },
  {
   "cell_type": "code",
   "execution_count": 31,
   "metadata": {
    "collapsed": true
   },
   "outputs": [],
   "source": [
    "df['country'] = countries"
   ]
  },
  {
   "cell_type": "code",
   "execution_count": 18,
   "metadata": {
    "collapsed": true
   },
   "outputs": [],
   "source": [
    "df['city'] = cities"
   ]
  },
  {
   "cell_type": "code",
   "execution_count": 44,
   "metadata": {},
   "outputs": [
    {
     "data": {
      "text/plain": [
       "100    \n",
       "101    \n",
       "102    \n",
       "103    \n",
       "104    \n",
       "105    \n",
       "106    \n",
       "107    \n",
       "108    \n",
       "109    \n",
       "110    \n",
       "111    \n",
       "112    \n",
       "113    \n",
       "114    \n",
       "115    \n",
       "116    \n",
       "117    \n",
       "118    \n",
       "119    \n",
       "Name: city, dtype: object"
      ]
     },
     "execution_count": 44,
     "metadata": {},
     "output_type": "execute_result"
    }
   ],
   "source": [
    "df.city[100:120]"
   ]
  },
  {
   "cell_type": "code",
   "execution_count": 51,
   "metadata": {},
   "outputs": [],
   "source": [
    "df_nc = df[df.city!='']\n",
    "df_nc = df_nc[df_nc.country!='']"
   ]
  },
  {
   "cell_type": "code",
   "execution_count": 52,
   "metadata": {},
   "outputs": [
    {
     "name": "stdout",
     "output_type": "stream",
     "text": [
      "241634 24166\n"
     ]
    }
   ],
   "source": [
    "print(len(df), len(df_nc))"
   ]
  },
  {
   "cell_type": "code",
   "execution_count": 54,
   "metadata": {},
   "outputs": [
    {
     "name": "stdout",
     "output_type": "stream",
     "text": [
      "15    CA\n",
      "16    CA\n",
      "18    PL\n",
      "19    US\n",
      "20    US\n",
      "22    US\n",
      "24    US\n",
      "32    RO\n",
      "35    UY\n",
      "36    IT\n",
      "Name: country, dtype: object\n"
     ]
    }
   ],
   "source": [
    "print(df_nc.country[:10])"
   ]
  },
  {
   "cell_type": "code",
   "execution_count": 60,
   "metadata": {},
   "outputs": [
    {
     "name": "stdout",
     "output_type": "stream",
     "text": [
      "0.0\n",
      "0.004138045187453447\n",
      "0.008276090374906894\n",
      "0.01241413556236034\n",
      "0.016552180749813787\n",
      "0.020690225937267236\n",
      "0.02482827112472068\n",
      "0.02896631631217413\n",
      "0.033104361499627574\n",
      "0.03724240668708102\n",
      "0.04138045187453447\n",
      "0.04551849706198792\n",
      "0.04965654224944136\n",
      "0.05379458743689481\n",
      "0.05793263262434826\n",
      "0.06207067781180171\n",
      "0.06620872299925515\n",
      "0.0703467681867086\n",
      "0.07448481337416205\n",
      "0.0786228585616155\n",
      "0.08276090374906894\n",
      "0.08689894893652239\n",
      "0.09103699412397584\n",
      "0.09517503931142927\n",
      "0.09931308449888272\n",
      "0.10345112968633617\n",
      "0.10758917487378962\n",
      "0.11172722006124307\n",
      "0.11586526524869652\n",
      "0.12000331043614997\n",
      "0.12414135562360341\n",
      "0.12827940081105685\n",
      "0.1324174459985103\n",
      "0.13655549118596375\n",
      "0.1406935363734172\n",
      "0.14483158156087064\n",
      "0.1489696267483241\n",
      "0.15310767193577754\n",
      "0.157245717123231\n",
      "0.16138376231068444\n",
      "0.16552180749813789\n",
      "0.16965985268559133\n",
      "0.17379789787304478\n",
      "0.17793594306049823\n",
      "0.18207398824795168\n",
      "0.18621203343540513\n",
      "0.19035007862285855\n",
      "0.194488123810312\n",
      "0.19862616899776545\n",
      "0.2027642141852189\n",
      "0.20690225937267234\n",
      "0.2110403045601258\n",
      "0.21517834974757924\n",
      "0.2193163949350327\n",
      "0.22345444012248614\n",
      "0.22759248530993959\n",
      "0.23173053049739303\n",
      "0.23586857568484648\n",
      "0.24000662087229993\n",
      "0.24414466605975338\n",
      "0.24828271124720683\n",
      "0.2524207564346603\n",
      "0.2565588016221137\n",
      "0.2606968468095672\n",
      "0.2648348919970206\n",
      "0.26897293718447407\n",
      "0.2731109823719275\n",
      "0.27724902755938097\n",
      "0.2813870727468344\n",
      "0.28552511793428786\n",
      "0.2896631631217413\n",
      "0.29380120830919476\n",
      "0.2979392534966482\n",
      "0.3020772986841016\n",
      "0.3062153438715551\n",
      "0.3103533890590085\n",
      "0.314491434246462\n",
      "0.3186294794339154\n",
      "0.3227675246213689\n",
      "0.3269055698088223\n",
      "0.33104361499627577\n",
      "0.3351816601837292\n",
      "0.33931970537118267\n",
      "0.3434577505586361\n",
      "0.34759579574608956\n",
      "0.351733840933543\n",
      "0.35587188612099646\n",
      "0.3600099313084499\n",
      "0.36414797649590336\n",
      "0.3682860216833568\n",
      "0.37242406687081026\n",
      "0.3765621120582637\n",
      "0.3807001572457171\n",
      "0.3848382024331706\n",
      "0.388976247620624\n",
      "0.39311429280807747\n",
      "0.3972523379955309\n",
      "0.40139038318298437\n",
      "0.4055284283704378\n",
      "0.40966647355789126\n",
      "0.4138045187453447\n",
      "0.41794256393279816\n",
      "0.4220806091202516\n",
      "0.42621865430770506\n",
      "0.4303566994951585\n",
      "0.43449474468261196\n",
      "0.4386327898700654\n",
      "0.44277083505751885\n",
      "0.4469088802449723\n",
      "0.45104692543242575\n",
      "0.45518497061987917\n",
      "0.4593230158073326\n",
      "0.46346106099478607\n",
      "0.4675991061822395\n",
      "0.47173715136969296\n",
      "0.4758751965571464\n",
      "0.48001324174459986\n",
      "0.4841512869320533\n",
      "0.48828933211950676\n",
      "0.4924273773069602\n",
      "0.49656542249441366\n",
      "0.5007034676818671\n",
      "0.5048415128693206\n",
      "0.508979558056774\n",
      "0.5131176032442274\n",
      "0.5172556484316809\n",
      "0.5213936936191343\n",
      "0.5255317388065878\n",
      "0.5296697839940412\n",
      "0.5338078291814946\n",
      "0.5379458743689481\n",
      "0.5420839195564016\n",
      "0.546221964743855\n",
      "0.5503600099313084\n",
      "0.5544980551187619\n",
      "0.5586361003062154\n",
      "0.5627741454936688\n",
      "0.5669121906811222\n",
      "0.5710502358685757\n",
      "0.5751882810560291\n",
      "0.5793263262434826\n",
      "0.583464371430936\n",
      "0.5876024166183895\n",
      "0.5917404618058429\n",
      "0.5958785069932964\n",
      "0.6000165521807498\n",
      "0.6041545973682032\n",
      "0.6082926425556567\n",
      "0.6124306877431102\n",
      "0.6165687329305636\n",
      "0.620706778118017\n",
      "0.6248448233054705\n",
      "0.628982868492924\n",
      "0.6331209136803774\n",
      "0.6372589588678308\n",
      "0.6413970040552843\n",
      "0.6455350492427377\n",
      "0.6496730944301912\n",
      "0.6538111396176446\n",
      "0.6579491848050981\n",
      "0.6620872299925515\n",
      "0.666225275180005\n",
      "0.6703633203674584\n",
      "0.6745013655549119\n",
      "0.6786394107423653\n",
      "0.6827774559298188\n",
      "0.6869155011172722\n",
      "0.6910535463047256\n",
      "0.6951915914921791\n",
      "0.6993296366796325\n",
      "0.703467681867086\n",
      "0.7076057270545394\n",
      "0.7117437722419929\n",
      "0.7158818174294463\n",
      "0.7200198626168998\n",
      "0.7241579078043532\n",
      "0.7282959529918067\n",
      "0.7324339981792601\n",
      "0.7365720433667136\n",
      "0.740710088554167\n",
      "0.7448481337416205\n",
      "0.7489861789290739\n",
      "0.7531242241165274\n",
      "0.7572622693039808\n",
      "0.7614003144914342\n",
      "0.7655383596788877\n",
      "0.7696764048663411\n",
      "0.7738144500537946\n",
      "0.777952495241248\n",
      "0.7820905404287015\n",
      "0.7862285856161549\n",
      "0.7903666308036084\n",
      "0.7945046759910618\n",
      "0.7986427211785153\n",
      "0.8027807663659687\n",
      "0.8069188115534222\n",
      "0.8110568567408756\n",
      "0.8151949019283291\n",
      "0.8193329471157825\n",
      "0.823470992303236\n",
      "0.8276090374906894\n",
      "0.8317470826781428\n",
      "0.8358851278655963\n",
      "0.8400231730530497\n",
      "0.8441612182405032\n",
      "0.8482992634279566\n",
      "0.8524373086154101\n",
      "0.8565753538028635\n",
      "0.860713398990317\n",
      "0.8648514441777704\n",
      "0.8689894893652239\n",
      "0.8731275345526773\n",
      "0.8772655797401308\n",
      "0.8814036249275842\n",
      "0.8855416701150377\n",
      "0.8896797153024911\n",
      "0.8938177604899445\n",
      "0.897955805677398\n",
      "0.9020938508648515\n",
      "0.9062318960523049\n",
      "0.9103699412397583\n",
      "0.9145079864272118\n",
      "0.9186460316146652\n",
      "0.9227840768021187\n",
      "0.9269221219895721\n",
      "0.9310601671770256\n",
      "0.935198212364479\n",
      "0.9393362575519325\n",
      "0.9434743027393859\n",
      "0.9476123479268393\n",
      "0.9517503931142928\n",
      "0.9558884383017463\n",
      "0.9600264834891997\n",
      "0.9641645286766531\n",
      "0.9683025738641066\n",
      "0.9724406190515601\n",
      "0.9765786642390135\n",
      "0.9807167094264669\n",
      "0.9848547546139204\n",
      "0.9889927998013738\n",
      "0.9931308449888273\n",
      "0.9972688901762807\n"
     ]
    }
   ],
   "source": [
    "import time\n",
    "cities = df_nc.city\n",
    "countries = df_nc.country\n",
    "long, lat = [], []\n",
    "from geopy.geocoders import Nominatim\n",
    "geolocator = Nominatim(user_agent=\"specify_your_app_name_here\")\n",
    "N = len(countries)\n",
    "for i in range(N):\n",
    "    try:\n",
    "        location = geolocator.geocode(cities[i]+' , '+countries[i])\n",
    "        lat.append(location.latitude)\n",
    "        long.append(location.longitude)\n",
    "    except:\n",
    "        lat.append('')\n",
    "        long.append('')\n",
    "        \n",
    "    if i%100==0:\n",
    "        print(i/N)\n",
    "        time.sleep(100)\n",
    "        \n"
   ]
  },
  {
   "cell_type": "code",
   "execution_count": 63,
   "metadata": {},
   "outputs": [],
   "source": [
    "df_nc['long'] = long\n",
    "df_nc['lat'] = lat"
   ]
  },
  {
   "cell_type": "code",
   "execution_count": null,
   "metadata": {},
   "outputs": [],
   "source": [
    "df_nc"
   ]
  },
  {
   "cell_type": "code",
   "execution_count": 64,
   "metadata": {},
   "outputs": [
    {
     "name": "stdout",
     "output_type": "stream",
     "text": [
      "10425\n"
     ]
    }
   ],
   "source": [
    "print(len(df_nc[df_nc.lat!='']))"
   ]
  },
  {
   "cell_type": "code",
   "execution_count": 65,
   "metadata": {},
   "outputs": [
    {
     "name": "stdout",
     "output_type": "stream",
     "text": [
      "24166\n"
     ]
    }
   ],
   "source": [
    "print(len(df_nc))"
   ]
  },
  {
   "cell_type": "code",
   "execution_count": 66,
   "metadata": {
    "collapsed": true
   },
   "outputs": [],
   "source": [
    "last_df = df_nc[df_nc.lat!='']"
   ]
  },
  {
   "cell_type": "code",
   "execution_count": 85,
   "metadata": {
    "collapsed": true
   },
   "outputs": [],
   "source": [
    "final = last_df.copy()"
   ]
  },
  {
   "cell_type": "code",
   "execution_count": 86,
   "metadata": {
    "collapsed": true
   },
   "outputs": [],
   "source": [
    "eg = geolocator.geocode('Egypt, Caïro ')\n",
    "ro = geolocator.geocode('Italy, Rome')\n",
    "gr = geolocator.geocode('Greek, Athene')"
   ]
  },
  {
   "cell_type": "code",
   "execution_count": null,
   "metadata": {
    "collapsed": true
   },
   "outputs": [],
   "source": []
  },
  {
   "cell_type": "code",
   "execution_count": 92,
   "metadata": {},
   "outputs": [],
   "source": [
    "final.loc[final.artist_last_name=='roman', 'country'] =  'IT'\n",
    "final.loc[final.artist_last_name=='roman', 'city'] =  'Rome'\n",
    "final.loc[final.artist_last_name=='roman', 'long'] =  ro.longitude\n",
    "final.loc[final.artist_last_name=='roman', 'lat'] =  ro.latitude\n",
    "\n",
    "\n",
    "final.loc[final.artist_last_name=='greek', 'country'] =  'GR'\n",
    "final.loc[final.artist_last_name=='greek', 'city'] =  'Athene'\n",
    "final.loc[final.artist_last_name=='greek', 'long'] =  gr.longitude\n",
    "final.loc[final.artist_last_name=='greek', 'lat'] =  gr.latitude\n",
    "\n",
    "\n",
    "final.loc[final.artist_last_name=='egyptian', 'country'] =  'EG'\n",
    "final.loc[final.artist_last_name=='egyptian', 'city'] =  'Caïro'\n",
    "final.loc[final.artist_last_name=='egyptian', 'long'] =  eg.longitude\n",
    "final.loc[final.artist_last_name=='egyptian', 'lat'] =  eg.latitude"
   ]
  },
  {
   "cell_type": "code",
   "execution_count": 93,
   "metadata": {},
   "outputs": [
    {
     "name": "stdout",
     "output_type": "stream",
     "text": [
      "         artist_last_name                     country\n",
      "241205     adrian-nilsson                          SE\n",
      "241207         baumeister                          DE\n",
      "241210         baumeister                          DE\n",
      "241214           van gogh                          NL\n",
      "241215         servranckx                          BE\n",
      "241220              roman                          IT\n",
      "241221              roman                          IT\n",
      "241222              roman                          IT\n",
      "241223       lloyd wright  Richland Center, Wisconsin\n",
      "241226              roman                          IT\n",
      "241227       lloyd wright  Richland Center, Wisconsin\n",
      "241228              weese                          US\n",
      "241230       lloyd wright  Richland Center, Wisconsin\n",
      "241231       lloyd wright  Richland Center, Wisconsin\n",
      "241234       lloyd wright  Richland Center, Wisconsin\n",
      "241235       lloyd wright  Richland Center, Wisconsin\n",
      "241240       lloyd wright  Richland Center, Wisconsin\n",
      "241241       lloyd wright  Richland Center, Wisconsin\n",
      "241242       lloyd wright  Richland Center, Wisconsin\n",
      "241243       lloyd wright  Richland Center, Wisconsin\n",
      "241252           tigerman                          US\n",
      "241253       lloyd wright  Richland Center, Wisconsin\n",
      "241254       lloyd wright  Richland Center, Wisconsin\n",
      "241255       lloyd wright  Richland Center, Wisconsin\n",
      "241256       lloyd wright  Richland Center, Wisconsin\n",
      "241257       lloyd wright  Richland Center, Wisconsin\n",
      "241259       lloyd wright  Richland Center, Wisconsin\n",
      "241260       lloyd wright  Richland Center, Wisconsin\n",
      "241261       lloyd wright  Richland Center, Wisconsin\n",
      "241266       lloyd wright  Richland Center, Wisconsin\n",
      "...                   ...                         ...\n",
      "241380              roman                          IT\n",
      "241384  mies van der rohe               German Empire\n",
      "241392  mies van der rohe               German Empire\n",
      "241398  mies van der rohe               German Empire\n",
      "241399  mies van der rohe               German Empire\n",
      "241400  mies van der rohe               German Empire\n",
      "241405  mies van der rohe               German Empire\n",
      "241406  mies van der rohe               German Empire\n",
      "241409  mies van der rohe               German Empire\n",
      "241410  mies van der rohe               German Empire\n",
      "241413  mies van der rohe               German Empire\n",
      "241414  mies van der rohe               German Empire\n",
      "241415  mies van der rohe               German Empire\n",
      "241416  mies van der rohe               German Empire\n",
      "241417  mies van der rohe               German Empire\n",
      "241418  mies van der rohe               German Empire\n",
      "241419  mies van der rohe               German Empire\n",
      "241507           egyptian                          EG\n",
      "241512           egyptian                          EG\n",
      "241548              greek                          GR\n",
      "241551              greek                          GR\n",
      "241556            picabia                          US\n",
      "241557            picabia                          US\n",
      "241558              macke                          DE\n",
      "241562          eggleston                          US\n",
      "241570          eggleston                          US\n",
      "241571          eggleston                          US\n",
      "241605              roman                          IT\n",
      "241609             masson                          FR\n",
      "241610             masson                          FR\n",
      "\n",
      "[100 rows x 2 columns]\n"
     ]
    }
   ],
   "source": [
    "print(final.tail(100)[['artist_last_name',  'country']])"
   ]
  },
  {
   "cell_type": "code",
   "execution_count": null,
   "metadata": {
    "collapsed": true
   },
   "outputs": [],
   "source": []
  },
  {
   "cell_type": "code",
   "execution_count": 94,
   "metadata": {
    "collapsed": true
   },
   "outputs": [],
   "source": [
    "final.to_csv('omni_locations.csv')"
   ]
  },
  {
   "cell_type": "code",
   "execution_count": 95,
   "metadata": {},
   "outputs": [],
   "source": [
    "cols = final.columns"
   ]
  },
  {
   "cell_type": "code",
   "execution_count": 98,
   "metadata": {},
   "outputs": [
    {
     "name": "stdout",
     "output_type": "stream",
     "text": [
      "Unnamed: 0 10425\n",
      "omni_id 10425\n",
      "artwork_name 7091\n",
      "artist_full_name 1327\n",
      "artist_first_name 906\n",
      "artist_last_name 1242\n",
      "date 536\n",
      "century 15\n",
      "source_url 7279\n",
      "image_url 8079\n",
      "general_type 72\n",
      "genre 109\n",
      "school 55\n",
      "palette_families 337\n",
      "palette 8074\n",
      "geocoded 1\n",
      "media 252\n",
      "style 252\n",
      "location 380\n",
      "tag 1507\n",
      "dominant_color 7487\n",
      "dominant_color_family 10\n",
      "description 902\n",
      "county 162\n",
      "city 639\n",
      "country 161\n",
      "long 480\n",
      "lat 480\n"
     ]
    }
   ],
   "source": [
    "for col in cols:\n",
    "    print(col, len(set(final[col])))"
   ]
  },
  {
   "cell_type": "code",
   "execution_count": 99,
   "metadata": {},
   "outputs": [
    {
     "name": "stdout",
     "output_type": "stream",
     "text": [
      "Unnamed: 0 130    1125\n",
      "135    1138\n",
      "141    1157\n",
      "143    1165\n",
      "148    1181\n",
      "151    1334\n",
      "159    1569\n",
      "252    1751\n",
      "256    1800\n",
      "283    2145\n",
      "Name: Unnamed: 0, dtype: int64\n",
      "\n",
      "\n",
      "omni_id 130       3935\n",
      "135    9006173\n",
      "141        356\n",
      "143    9006198\n",
      "148    9006214\n",
      "151       1007\n",
      "159    9006597\n",
      "252    9006775\n",
      "256    9006824\n",
      "283    9007167\n",
      "Name: omni_id, dtype: int64\n",
      "\n",
      "\n",
      "artwork_name 130                                                  304\n",
      "135                                amphora (storage jar)\n",
      "141                                    homage to bleriot\n",
      "143                             kantharos (drinking cup)\n",
      "148                           knob-handled patera (dish)\n",
      "151                         composition tight curves. 25\n",
      "159                     violet and silver - the deep sea\n",
      "252    pair of protomes depicting the forepart of a g...\n",
      "256                           trefoil oinochoe (pitcher)\n",
      "283                              sunny morningeight legs\n",
      "Name: artwork_name, dtype: object\n",
      "\n",
      "\n",
      "artist_full_name 130       wassily kandinsky  \n",
      "135             ancient greek\n",
      "141         robert delaunay  \n",
      "143             ancient greek\n",
      "148             ancient greek\n",
      "151        carl buchheister  \n",
      "159    james mcneill whistler\n",
      "252             ancient greek\n",
      "256             ancient greek\n",
      "283              lucian freud\n",
      "Name: artist_full_name, dtype: object\n",
      "\n",
      "\n",
      "artist_first_name 130    wassily\n",
      "135    ancient\n",
      "141     robert\n",
      "143    ancient\n",
      "148    ancient\n",
      "151       carl\n",
      "159      james\n",
      "252    ancient\n",
      "256    ancient\n",
      "283     lucian\n",
      "Name: artist_first_name, dtype: object\n",
      "\n",
      "\n",
      "artist_last_name 130           kandinsky\n",
      "135               greek\n",
      "141            delaunay\n",
      "143               greek\n",
      "148               greek\n",
      "151         buchheister\n",
      "159    mcneill whistler\n",
      "252               greek\n",
      "256               greek\n",
      "283               freud\n",
      "Name: artist_last_name, dtype: object\n",
      "\n",
      "\n",
      "date 130    1910\n",
      "135     530\n",
      "141    1914\n",
      "143     300\n",
      "148     330\n",
      "151    1925\n",
      "159    1893\n",
      "252     625\n",
      "256     640\n",
      "283    1997\n",
      "Name: date, dtype: int64\n",
      "\n",
      "\n",
      "century 130    20\n",
      "135     6\n",
      "141    20\n",
      "143     4\n",
      "148     4\n",
      "151    20\n",
      "159    19\n",
      "252     7\n",
      "256     7\n",
      "283    20\n",
      "Name: century, dtype: int64\n",
      "\n",
      "\n",
      "source_url 130    https://www.wikiart.org/en/wassily-kandinsky/n...\n",
      "135    http://data-aggregator-lb-v1-1312266121.us-eas...\n",
      "141    https://www.wikiart.org/en/robert-delaunay/hom...\n",
      "143    http://data-aggregator-lb-v1-1312266121.us-eas...\n",
      "148    http://data-aggregator-lb-v1-1312266121.us-eas...\n",
      "151    https://www.wikiart.org/en/carl-buchheister/co...\n",
      "159    http://data-aggregator-lb-v1-1312266121.us-eas...\n",
      "252    http://data-aggregator-lb-v1-1312266121.us-eas...\n",
      "256    http://data-aggregator-lb-v1-1312266121.us-eas...\n",
      "283    http://data-aggregator-lb-v1-1312266121.us-eas...\n",
      "Name: source_url, dtype: object\n",
      "\n",
      "\n",
      "image_url 130    https://uploads7.wikiart.org/images/wassily-ka...\n",
      "135    https://lakeimagesweb.artic.edu/iiif/2/885df1e...\n",
      "141    https://uploads3.wikiart.org/images/robert-del...\n",
      "143    https://lakeimagesweb.artic.edu/iiif/2/db0ec0b...\n",
      "148    https://lakeimagesweb.artic.edu/iiif/2/c193023...\n",
      "151    https://uploads1.wikiart.org/images/carl-buchh...\n",
      "159    https://lakeimagesweb.artic.edu/iiif/2/eed0bf2...\n",
      "252    https://lakeimagesweb.artic.edu/iiif/2/26e59e4...\n",
      "256    https://lakeimagesweb.artic.edu/iiif/2/1e5bb17...\n",
      "283    https://lakeimagesweb.artic.edu/iiif/2/56ae588...\n",
      "Name: image_url, dtype: object\n",
      "\n",
      "\n",
      "general_type 130            painting\n",
      "135              vessel\n",
      "141            painting\n",
      "143     drinking vessel\n",
      "148              vessel\n",
      "151            painting\n",
      "159            painting\n",
      "252           sculpture\n",
      "256    pitcher (vessel)\n",
      "283       oil on canvas\n",
      "Name: general_type, dtype: object\n",
      "\n",
      "\n",
      "genre 130                     abstract\n",
      "135    ancient and byzantine art\n",
      "141                     abstract\n",
      "143    ancient and byzantine art\n",
      "148    ancient and byzantine art\n",
      "151                     abstract\n",
      "159                 american art\n",
      "252    ancient and byzantine art\n",
      "256    ancient and byzantine art\n",
      "283             contemporary art\n",
      "Name: genre, dtype: object\n",
      "\n",
      "\n",
      "school 130          Unknown\n",
      "135           athens\n",
      "141          Unknown\n",
      "143           apulia\n",
      "148           puglia\n",
      "151          Unknown\n",
      "159    united states\n",
      "252            samos\n",
      "256          corinth\n",
      "283          england\n",
      "Name: school, dtype: object\n",
      "\n",
      "\n",
      "palette_families 130    Reds Grays Yellows Greens Blacks\n",
      "135                 Whites Grays Blacks\n",
      "141           Reds Grays Yellows Blacks\n",
      "143                        Whites Grays\n",
      "148           Reds Grays Yellows Blacks\n",
      "151         Whites Grays Yellows Blacks\n",
      "159                               Grays\n",
      "252                        Grays Blacks\n",
      "256                        Grays Blacks\n",
      "283                        Whites Grays\n",
      "Name: palette_families, dtype: object\n",
      "\n",
      "\n",
      "palette 130    [u'#cf8f11', u'#a06d24', u'#9a131e', u'#7f8f2f...\n",
      "135    [u'#f1f1f1', u'#e6e5e4', u'#e3e1df', u'#dfdfdf...\n",
      "141    [u'#d0a567', u'#6c7767', u'#1e2538', u'#000304...\n",
      "143    [u'#f9f9f9', u'#dfdfdf', u'#b4b3b2', u'#aba9a6...\n",
      "148    [u'#e6c7a7', u'#9d9b97', u'#8f9192', u'#706967...\n",
      "151    [u'#e4d585', u'#282730', u'#1c1d1c', u'#1b1b1a...\n",
      "159    [u'#787d59', u'#6e7556', u'#6c7d5a', u'#666f52...\n",
      "252    [u'#98bbac', u'#85938c', u'#6d6d6d', u'#686767...\n",
      "256    [u'#cdc7c7', u'#cbc5c5', u'#c9c3c3', u'#c8bfc0...\n",
      "283    [u'#c3ab9c', u'#94877d', u'#8b7b71', u'#594f49...\n",
      "Name: palette, dtype: object\n",
      "\n",
      "\n",
      "geocoded 130    f\n",
      "135    f\n",
      "141    f\n",
      "143    f\n",
      "148    f\n",
      "151    f\n",
      "159    f\n",
      "252    f\n",
      "256    f\n",
      "283    f\n",
      "Name: geocoded, dtype: object\n",
      "\n",
      "\n",
      "media 130                                              Unknown\n",
      "135              terracotta, inorganic material, ceramic\n",
      "141                                              Unknown\n",
      "143    terracotta, colorant, inorganic material, pigm...\n",
      "148                       terracotta, inorganic material\n",
      "151                                              Unknown\n",
      "159                  oil paint (paint), organic material\n",
      "252    nonferrous metal, copper alloy, inorganic mate...\n",
      "256              terracotta, inorganic material, ceramic\n",
      "283                            oil paint (paint), canvas\n",
      "Name: media, dtype: object\n",
      "\n",
      "\n",
      "style 130                  abstract art\n",
      "135               archaic (greek)\n",
      "141                       orphism\n",
      "143                      gnathian\n",
      "148                       apulian\n",
      "151                          dada\n",
      "159                 impressionism\n",
      "252                 orientalizing\n",
      "256    corinthian (pottery style)\n",
      "283                  20th century\n",
      "Name: style, dtype: object\n",
      "\n",
      "\n",
      "location 130                                  Unknown\n",
      "135                              gallery 151\n",
      "141    kunstmuseum basel, basel, switzerland\n",
      "143                              gallery 151\n",
      "148                              gallery 151\n",
      "151                                  Unknown\n",
      "159                                  Unknown\n",
      "252                              gallery 151\n",
      "256                              gallery 151\n",
      "283                                  Unknown\n",
      "Name: location, dtype: object\n",
      "\n",
      "\n",
      "tag 130                                              Unknown\n",
      "135    ceramics, terracotta, attic, dining, mythology...\n",
      "141                                              Unknown\n",
      "143    drinking vessel, terracotta, gnathian, dining,...\n",
      "148    terracotta, mythology, apulian, inorganic mate...\n",
      "151                                              Unknown\n",
      "159    landscapes, oil paint (paint), modernism, orga...\n",
      "252    nonferrous metal, copper alloy, orientalizing,...\n",
      "256    ceramics, terracotta, pitcher (vessel), dogs, ...\n",
      "283    oil paint (paint), dogs, oil on canvas, men, c...\n",
      "Name: tag, dtype: object\n",
      "\n",
      "\n",
      "dominant_color 130    #63232b\n",
      "135    #040d04\n",
      "141    #000000\n",
      "143    #ececec\n",
      "148    #9d9b97\n",
      "151    #282730\n",
      "159    #3f5146\n",
      "252    #7a7a7a\n",
      "256    #beb6ba\n",
      "283    #7b6e66\n",
      "Name: dominant_color, dtype: object\n",
      "\n",
      "\n",
      "dominant_color_family 130      Reds\n",
      "135    Blacks\n",
      "141    Blacks\n",
      "143    Whites\n",
      "148     Grays\n",
      "151    Blacks\n",
      "159     Grays\n",
      "252     Grays\n",
      "256     Grays\n",
      "283     Grays\n",
      "Name: dominant_color_family, dtype: object\n",
      "\n",
      "\n",
      "description 130                                                  NaN\n",
      "135    <p>the greek symposium<br>the modern symposium...\n",
      "141                                                  NaN\n",
      "143    <p>decorated tableware enlivened festive meals...\n",
      "148    <p>the circular dish with knobs alongside its ...\n",
      "151                                                  NaN\n",
      "159    <p>after years of painting seascapes on a sign...\n",
      "252    <p>the great holy sites of ancient greece, suc...\n",
      "256    <p>the seventh century marks the beginning of ...\n",
      "283    <p>lucian freud subjected the human face and f...\n",
      "Name: description, dtype: object\n",
      "\n",
      "\n",
      "county 130    US\n",
      "135    US\n",
      "141    US\n",
      "143    GB\n",
      "148    US\n",
      "151    DE\n",
      "159    US\n",
      "252    US\n",
      "256    RU\n",
      "283    DE\n",
      "Name: county, dtype: object\n",
      "\n",
      "\n",
      "city 130     Moscow\n",
      "135     Athene\n",
      "141      Paris\n",
      "143     Athene\n",
      "148     Athene\n",
      "151    Hanover\n",
      "159     Lowell\n",
      "252     Athene\n",
      "256     Athene\n",
      "283     Berlin\n",
      "Name: city, dtype: object\n",
      "\n",
      "\n",
      "country 130    US\n",
      "135    GR\n",
      "141    US\n",
      "143    GR\n",
      "148    GR\n",
      "151    DE\n",
      "159    US\n",
      "252    GR\n",
      "256    GR\n",
      "283    DE\n",
      "Name: country, dtype: object\n",
      "\n",
      "\n",
      "long 130   -74.7654\n",
      "135    23.7774\n",
      "141   -71.3162\n",
      "143    23.7774\n",
      "148    23.7774\n",
      "151   -75.1636\n",
      "159    26.9282\n",
      "252    23.7774\n",
      "256    23.7774\n",
      "283    37.5654\n",
      "Name: long, dtype: object\n",
      "\n",
      "\n",
      "lat 130    46.0105\n",
      "135    37.9872\n",
      "141    42.6334\n",
      "143    37.9872\n",
      "148    37.9872\n",
      "151    39.9524\n",
      "159    46.9249\n",
      "252    37.9872\n",
      "256    37.9872\n",
      "283    55.7431\n",
      "Name: lat, dtype: object\n",
      "\n",
      "\n"
     ]
    }
   ],
   "source": [
    "for col in cols:\n",
    "    print(col, final[col][:10])\n",
    "    print('\\n')"
   ]
  },
  {
   "cell_type": "code",
   "execution_count": 105,
   "metadata": {},
   "outputs": [
    {
     "name": "stdout",
     "output_type": "stream",
     "text": [
      "               artist_full_name        city country\n",
      "12177              salvador dal    Figueres      ES\n",
      "12178       annibale carracci       Bologna      IT\n",
      "12179               paul bril         Breda      NL\n",
      "12180               paul bril         Breda      NL\n",
      "12181               paul bril         Breda      NL\n",
      "12182               paul bril         Breda      NL\n",
      "12186               paul bril         Breda      NL\n",
      "12187               paul bril         Breda      NL\n",
      "12192       hendrick avercamp     Amsterdam      US\n",
      "12195               paul bril         Breda      NL\n",
      "12196       hendrick avercamp     Amsterdam      US\n",
      "12197     esaias van de velde     Amsterdam      US\n",
      "12205       hendrick avercamp     Amsterdam      US\n",
      "12208       hendrick avercamp     Amsterdam      US\n",
      "12209       hendrick avercamp     Amsterdam      US\n",
      "12217         jan dirksz both       Utrecht      NL\n",
      "12219                lan ying      Hangzhou      CN\n",
      "12221      jacob van ruisdael       Haarlem      NL\n",
      "12222           nicolaes maes     Dordrecht      NL\n",
      "12225           salvator rosa        Naples      US\n",
      "12226    adriaen van de velde     Amsterdam      US\n",
      "12227      jacob van ruisdael       Haarlem      NL\n",
      "12228      jacob van ruisdael       Haarlem      NL\n",
      "12229      jacob van ruisdael       Haarlem      NL\n",
      "12230         nicolas poussin           NaN      FR\n",
      "12231         nicolas poussin           NaN      FR\n",
      "12232         nicolas poussin           NaN      FR\n",
      "12240        francois boucher         Paris      FR\n",
      "12241        francois boucher         Paris      FR\n",
      "12246    claude-joseph vernet       Avignon      FR\n",
      "...                         ...         ...     ...\n",
      "12381             john martin        Martin      SK\n",
      "12383               david cox    Birmingham      US\n",
      "12390          john constable       Suffolk      US\n",
      "12392              john crome       Norwich      US\n",
      "12393              john crome       Norwich      US\n",
      "12394   charles willson peale      Maryland      US\n",
      "12401           samuel palmer        London      GB\n",
      "12402  caspar david friedrich    Greifswald      DE\n",
      "12407             john martin        Martin      SK\n",
      "12413   charles willson peale      Maryland      US\n",
      "12419          john constable       Suffolk      US\n",
      "12426  caspar david friedrich    Greifswald      DE\n",
      "12435  caspar david friedrich    Greifswald      DE\n",
      "12441          john constable       Suffolk      US\n",
      "12442           karl bryullov    Petersburg      US\n",
      "12444  caspar david friedrich    Greifswald      DE\n",
      "12445  caspar david friedrich    Greifswald      DE\n",
      "12446  caspar david friedrich    Greifswald      DE\n",
      "12447  caspar david friedrich    Greifswald      DE\n",
      "12448  caspar david friedrich    Greifswald      DE\n",
      "12449  caspar david friedrich    Greifswald      DE\n",
      "12454           camille corot         Paris      US\n",
      "12455           camille corot         Paris      US\n",
      "12456             thomas cole        Bolton      GB\n",
      "12457  caspar david friedrich    Greifswald      DE\n",
      "12458  caspar david friedrich    Greifswald      DE\n",
      "12459  caspar david friedrich    Greifswald      DE\n",
      "12460  caspar david friedrich    Greifswald      DE\n",
      "12461    johan christian dahl        Bergen      NO\n",
      "12462           samuel palmer        London      GB\n",
      "\n",
      "[100 rows x 3 columns]\n"
     ]
    }
   ],
   "source": [
    "print(final[2500:2600][['artist_full_name', 'city', 'country']])"
   ]
  },
  {
   "cell_type": "code",
   "execution_count": null,
   "metadata": {
    "collapsed": true
   },
   "outputs": [],
   "source": []
  }
 ],
 "metadata": {
  "kernelspec": {
   "display_name": "Python 3",
   "language": "python",
   "name": "python3"
  },
  "language_info": {
   "codemirror_mode": {
    "name": "ipython",
    "version": 3
   },
   "file_extension": ".py",
   "mimetype": "text/x-python",
   "name": "python",
   "nbconvert_exporter": "python",
   "pygments_lexer": "ipython3",
   "version": "3.6.3"
  }
 },
 "nbformat": 4,
 "nbformat_minor": 2
}
